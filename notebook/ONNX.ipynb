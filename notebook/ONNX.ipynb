{
 "cells": [
  {
   "cell_type": "markdown",
   "metadata": {},
   "source": [
    "# Notes of Exporting Models to ONNX format\n",
    "\n",
    "## 1. Before Quantization\n",
    "\n",
    "### 1.1 ONNX-Compatible Modification Before Exporting\n",
    "\n",
    "Model architecture should be modified to be ONNX-compatible. Related code:\n",
    "\n",
    "```python\n",
    "x = F.avg_pool1d(x, x.shape[-1]) \n",
    "```\n",
    "\n",
    "->\n",
    "\n",
    "```python\n",
    "x = F.adaptive_avg_pool1d(x, 1)\n",
    "```\n",
    "- `F.avg_pool1d(x, x.shape[-1])` uses a dynamic kernel size and PyTorch evaluates it at runtime. ONNX export uses static tracing (`torch.onnx.export()`), and it cannot trace dynamic kernel sizes derived from input shapes.\n",
    "- `adaptive_avg_pool1d` is natively supported in ONNX and symbolically defines the output to always have a fixed length (here, 1).\n",
    "\n",
    "### 1.2 Preprocess by `onnxruntime.quantization.preprocess` Before Quantization\n",
    "\n",
    "``` bash\n",
    "python -m onnxruntime.quantization.preprocess \\\n",
    "    --input models/cnn_fp32.onnx \\\n",
    "    --output models/cnn_fp32_infer.onnx\n",
    "```\n",
    "Pre-processing is to transform a float32 model to prepare it for quantization and improve quantization quality. It consists of the following three optional steps:\n",
    "\n",
    "- Symbolic shape inference. This is best suited for transformer models.\n",
    "- ONNX shape inference.\n",
    "- Model optimization: This step uses ONNX Runtime native library to rewrite the computation graph, including merging computation nodes, eliminating redundancies to improve runtime efficiency.\n",
    "\n",
    "In our case, according to the computational graph, the preprocessing helps to:\n",
    "- Figures out the shape in each step in the graph (The shape is noted next to each arrow after preprocessing);\n",
    "- Fuse `Matmul` and `Add` operators into [`Gemm`](https://onnx.ai/onnx/operators/onnx__Gemm.html) operator for matrix multiplication.\n",
    "\n",
    "\n"
   ]
  },
  {
   "cell_type": "markdown",
   "metadata": {},
   "source": [
    "## 2. During the Quantization\n",
    "\n",
    "I wrapped the `onnxruntime.quantization.quantize_static` in a script `./src/onnx_static_quantize.py` like [the example](https://github.com/microsoft/onnxruntime-inference-examples/blob/main/quantization/image_classification/cpu/run.py) did. \n",
    "\n",
    "\n",
    "\n"
   ]
  },
  {
   "cell_type": "markdown",
   "metadata": {},
   "source": [
    "# 3. Evaluation after Quantization\n",
    "Run the script `./onnx_static_quantize.sh` of overall workflow of static quantization in ONNX Runtime and evaluation, given by the well-trained fp32 model checkpoint. The output will be close to this:\n",
    "\n",
    "|Metrics|FP32 model|QInt8 model|\n",
    "| ---- | ---- | ---- |\n",
    "| Model Size | 106.51 KB | 44.09 KB |\n",
    "| Accuracy | 83.14% | 78.41% |\n",
    "| Average Inference Time | 9.62 ms | 2.85 ms |"
   ]
  },
  {
   "cell_type": "markdown",
   "metadata": {},
   "source": [
    "# 4. Check the computational graph of quantized model"
   ]
  },
  {
   "cell_type": "code",
   "execution_count": null,
   "metadata": {},
   "outputs": [
    {
     "name": "stdout",
     "output_type": "stream",
     "text": [
      "49\n",
      "dict_keys(['fc1.bias_DequantizeLinear', 'input_QuantizeLinear', 'onnx::Conv_54_DequantizeLinear', 'onnx::Conv_55_DequantizeLinear', 'onnx::Conv_57_DequantizeLinear', 'onnx::Conv_58_DequantizeLinear', 'onnx::Conv_60_DequantizeLinear', 'onnx::Conv_61_DequantizeLinear', 'onnx::Conv_63_DequantizeLinear', 'onnx::Conv_64_DequantizeLinear', 'onnx::MatMul_65_DequantizeLinear', 'input_DequantizeLinear', '/block1/block/block.0/Conv', '/block1/block/block.2/Relu_output_0_QuantizeLinear', '/block1/block/block.2/Relu_output_0_DequantizeLinear', '/block1/block/block.3/MaxPool', '/block1/block/block.3/MaxPool_output_0_QuantizeLinear', '/block1/block/block.3/MaxPool_output_0_DequantizeLinear', '/block2/block/block.0/Conv', '/block2/block/block.2/Relu_output_0_QuantizeLinear', '/block2/block/block.2/Relu_output_0_DequantizeLinear', '/block2/block/block.3/MaxPool', '/block2/block/block.3/MaxPool_output_0_QuantizeLinear', '/block2/block/block.3/MaxPool_output_0_DequantizeLinear', '/block3/block/block.0/Conv', '/block3/block/block.2/Relu_output_0_QuantizeLinear', '/block3/block/block.2/Relu_output_0_DequantizeLinear', '/block3/block/block.3/MaxPool', '/block3/block/block.3/MaxPool_output_0_QuantizeLinear', '/block3/block/block.3/MaxPool_output_0_DequantizeLinear', '/block4/block/block.0/Conv', '/block4/block/block.2/Relu_output_0_QuantizeLinear', '/block4/block/block.2/Relu_output_0_DequantizeLinear', '/block4/block/block.3/MaxPool', '/block4/block/block.3/MaxPool_output_0_QuantizeLinear', '/block4/block/block.3/MaxPool_output_0_DequantizeLinear', '/GlobalAveragePool', '/GlobalAveragePool_output_0_QuantizeLinear', '/GlobalAveragePool_output_0_DequantizeLinear', '/Transpose', '/Transpose_output_0_QuantizeLinear', '/Transpose_output_0_DequantizeLinear', '/fc1/MatMul', '/fc1/MatMul_output_0_QuantizeLinear', '/fc1/MatMul_output_0_DequantizeLinear', '/fc1/Add', '/fc1/Add_output_0_QuantizeLinear', '/fc1/Add_output_0_DequantizeLinear', '/LogSoftmax'])\n",
      "46\n",
      "dict_keys(['input_zero_point', 'input_scale', 'onnx::Conv_54_zero_point', 'onnx::Conv_54_scale', 'onnx::Conv_54_quantized', '/block1/block/block.2/Relu_output_0_zero_point', '/block1/block/block.2/Relu_output_0_scale', 'onnx::Conv_57_zero_point', 'onnx::Conv_57_scale', 'onnx::Conv_57_quantized', '/block2/block/block.2/Relu_output_0_zero_point', '/block2/block/block.2/Relu_output_0_scale', 'onnx::Conv_60_zero_point', 'onnx::Conv_60_scale', 'onnx::Conv_60_quantized', '/block3/block/block.2/Relu_output_0_zero_point', '/block3/block/block.2/Relu_output_0_scale', 'onnx::Conv_63_zero_point', 'onnx::Conv_63_scale', 'onnx::Conv_63_quantized', '/block4/block/block.2/Relu_output_0_zero_point', '/block4/block/block.2/Relu_output_0_scale', '/GlobalAveragePool_output_0_zero_point', '/GlobalAveragePool_output_0_scale', 'onnx::MatMul_65_zero_point', 'onnx::MatMul_65_scale', 'onnx::MatMul_65_quantized', '/fc1/MatMul_output_0_zero_point', '/fc1/MatMul_output_0_scale', 'fc1.bias_zero_point', 'fc1.bias_scale', 'fc1.bias_quantized', '/fc1/Add_output_0_zero_point', '/fc1/Add_output_0_scale', 'onnx::Conv_55_quantized', 'onnx::Conv_55_quantized_scale', 'onnx::Conv_55_quantized_zero_point', 'onnx::Conv_58_quantized', 'onnx::Conv_58_quantized_scale', 'onnx::Conv_58_quantized_zero_point', 'onnx::Conv_61_quantized', 'onnx::Conv_61_quantized_scale', 'onnx::Conv_61_quantized_zero_point', 'onnx::Conv_64_quantized', 'onnx::Conv_64_quantized_scale', 'onnx::Conv_64_quantized_zero_point'])\n",
      "onnx::Conv_55_quantized\n",
      "onnx::Conv_55_quantized_scale\n",
      "onnx::Conv_55_quantized_zero_point\n"
     ]
    }
   ],
   "source": [
    "import onnx\n",
    "\n",
    "\n",
    "model = onnx.load(\"../models/cnn_int8.onnx\")\n",
    "graph = model.graph\n",
    "node = graph.node \n",
    "input = graph.input\n",
    "output = graph.output\n",
    "print(len(node))\n",
    "node_map = {node.name: node for node in graph.node}\n",
    "print(node_map.keys())\n",
    "\n",
    "initializer_map = {init.name: init for init in graph.initializer}\n",
    "print(len(initializer_map))\n",
    "print(initializer_map.keys())\n",
    "# for init in initializer_map.values():\n",
    "#     if \"55\" in init.name:\n",
    "#         print(init.name)"
   ]
  }
 ],
 "metadata": {
  "kernelspec": {
   "display_name": "audioml",
   "language": "python",
   "name": "python3"
  },
  "language_info": {
   "codemirror_mode": {
    "name": "ipython",
    "version": 3
   },
   "file_extension": ".py",
   "mimetype": "text/x-python",
   "name": "python",
   "nbconvert_exporter": "python",
   "pygments_lexer": "ipython3",
   "version": "3.13.2"
  }
 },
 "nbformat": 4,
 "nbformat_minor": 2
}
